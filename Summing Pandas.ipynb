{
 "cells": [
  {
   "cell_type": "code",
   "execution_count": 1,
   "metadata": {
    "collapsed": true
   },
   "outputs": [],
   "source": [
    "import pandas as pd"
   ]
  },
  {
   "cell_type": "code",
   "execution_count": 2,
   "metadata": {
    "collapsed": true
   },
   "outputs": [],
   "source": [
    "data = pd.read_csv(\"ml-cleaned.txt\", sep=\"\\t\")"
   ]
  },
  {
   "cell_type": "code",
   "execution_count": 3,
   "metadata": {
    "collapsed": true
   },
   "outputs": [],
   "source": [
    "newDF = pd.DataFrame(data[\"hero\"])"
   ]
  },
  {
   "cell_type": "code",
   "execution_count": 4,
   "metadata": {
    "collapsed": false
   },
   "outputs": [],
   "source": [
    "months = [\"May\", \"Jun\", \"Jul\", \"Aug\", \"Sep\", \"Oct\", \"Nov\", \"Dec\", \"Jan\", \"Feb\", \"Mar\", \"Apr\"]\n",
    "\n",
    "for month in months:\n",
    "    newDFMonth = pd.Series([0] * len(data))\n",
    "    for column in list(data.columns):\n",
    "        if column.startswith(month):\n",
    "            newDFMonth += data[column]\n",
    "    newDF[month] = newDFMonth"
   ]
  },
  {
   "cell_type": "code",
   "execution_count": 7,
   "metadata": {
    "collapsed": false
   },
   "outputs": [],
   "source": [
    "newDF[\"total\"] = newDF.sum(axis=1)"
   ]
  },
  {
   "cell_type": "code",
   "execution_count": 10,
   "metadata": {
    "collapsed": false
   },
   "outputs": [],
   "source": [
    "newDF[[\"hero\", \"total\"]].to_csv(\"hero-total-popularity.txt\", sep=\"\\t\", index=False)"
   ]
  },
  {
   "cell_type": "code",
   "execution_count": 30,
   "metadata": {
    "collapsed": false
   },
   "outputs": [
    {
     "data": {
      "text/plain": [
       "0      12\n",
       "1      18\n",
       "2      18\n",
       "3      25\n",
       "4       0\n",
       "5       0\n",
       "6       0\n",
       "7       7\n",
       "8      23\n",
       "9       0\n",
       "10     21\n",
       "11     12\n",
       "12    118\n",
       "13     34\n",
       "14     15\n",
       "15     18\n",
       "16      0\n",
       "17      0\n",
       "18     67\n",
       "19     53\n",
       "20     71\n",
       "21     49\n",
       "22      0\n",
       "23      0\n",
       "24     12\n",
       "25      0\n",
       "26      0\n",
       "27      0\n",
       "28      0\n",
       "29      0\n",
       "     ... \n",
       "51      6\n",
       "52     23\n",
       "53    205\n",
       "54      0\n",
       "55     50\n",
       "56     76\n",
       "57     66\n",
       "58      0\n",
       "59      0\n",
       "60      0\n",
       "61      0\n",
       "62      0\n",
       "63     17\n",
       "64     18\n",
       "65      0\n",
       "66     44\n",
       "67     33\n",
       "68     27\n",
       "69     46\n",
       "70      0\n",
       "71      0\n",
       "72     11\n",
       "73      3\n",
       "74      0\n",
       "75      0\n",
       "76      0\n",
       "77      0\n",
       "78      0\n",
       "79      0\n",
       "80      0\n",
       "dtype: int64"
      ]
     },
     "execution_count": 30,
     "metadata": {},
     "output_type": "execute_result"
    }
   ],
   "source": [
    "pd.Series([0] * 81) + data[\"May-1st\"]"
   ]
  },
  {
   "cell_type": "code",
   "execution_count": 26,
   "metadata": {
    "collapsed": false
   },
   "outputs": [
    {
     "data": {
      "text/plain": [
       "['hero',\n",
       " 'May-1st',\n",
       " 'May-2nd',\n",
       " 'May-3rd',\n",
       " 'May-4th',\n",
       " 'Jun-1st',\n",
       " 'Jun-2nd',\n",
       " 'Jun-3rd',\n",
       " 'Jun-4th',\n",
       " 'Jul-1st',\n",
       " 'Jul-2nd',\n",
       " 'Jul-3rd',\n",
       " 'Jul-4th',\n",
       " 'Aug-1st',\n",
       " 'Aug-2nd',\n",
       " 'Aug-3rd',\n",
       " 'Aug-4th',\n",
       " 'Sep-1st',\n",
       " 'Sep-2nd',\n",
       " 'Sep-3rd',\n",
       " 'Sep-4th',\n",
       " 'Oct-1st',\n",
       " 'Oct-2nd',\n",
       " 'Oct-3rd',\n",
       " 'Oct-4th',\n",
       " 'Nov-1st',\n",
       " 'Nov-2nd',\n",
       " 'Nov-3rd',\n",
       " 'Nov-4th',\n",
       " 'Dec-1st',\n",
       " 'Dec-2nd',\n",
       " 'Dec-3rd',\n",
       " 'Dec-4th',\n",
       " 'Jan-1st',\n",
       " 'Jan-2nd',\n",
       " 'Jan-3rd',\n",
       " 'Jan-4th',\n",
       " 'Feb-1st',\n",
       " 'Feb-2nd',\n",
       " 'Feb-3rd',\n",
       " 'Feb-4th',\n",
       " 'Mar-1st',\n",
       " 'Mar-2nd',\n",
       " 'Mar-3rd',\n",
       " 'Mar-4th',\n",
       " 'Apr-1st',\n",
       " 'Apr-2nd',\n",
       " 'Apr-3rd',\n",
       " 'Apr-4th']"
      ]
     },
     "execution_count": 26,
     "metadata": {},
     "output_type": "execute_result"
    }
   ],
   "source": [
    "list(data.columns)"
   ]
  }
 ],
 "metadata": {
  "kernelspec": {
   "display_name": "Python 3",
   "language": "python",
   "name": "python3"
  },
  "language_info": {
   "codemirror_mode": {
    "name": "ipython",
    "version": 3
   },
   "file_extension": ".py",
   "mimetype": "text/x-python",
   "name": "python",
   "nbconvert_exporter": "python",
   "pygments_lexer": "ipython3",
   "version": "3.4.3"
  }
 },
 "nbformat": 4,
 "nbformat_minor": 1
}
